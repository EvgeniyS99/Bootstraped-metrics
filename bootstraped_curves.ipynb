{
  "nbformat": 4,
  "nbformat_minor": 0,
  "metadata": {
    "colab": {
      "provenance": [],
      "collapsed_sections": []
    },
    "kernelspec": {
      "name": "python3",
      "display_name": "Python 3"
    },
    "language_info": {
      "name": "python"
    }
  },
  "cells": [
    {
      "cell_type": "code",
      "execution_count": 16,
      "metadata": {
        "id": "F6vOU6rA-FPH"
      },
      "outputs": [],
      "source": [
        "import numpy as np\n",
        "from typing import Tuple\n",
        "import pandas as pd\n",
        "import matplotlib.pyplot as plt\n",
        "from sklearn.base import ClassifierMixin\n",
        "from sklearn.metrics import roc_auc_score\n",
        "\n",
        "from sklearn import datasets\n",
        "from sklearn.model_selection import train_test_split\n",
        "from sklearn.linear_model import LogisticRegression\n",
        "from sklearn.metrics import roc_auc_score"
      ]
    },
    {
      "cell_type": "markdown",
      "source": [
        "### Necessary functions "
      ],
      "metadata": {
        "id": "33BxWX8i50mU"
      }
    },
    {
      "cell_type": "code",
      "source": [
        "def roc_auc_ci(\n",
        "        classifier: ClassifierMixin,\n",
        "        X: np.ndarray,\n",
        "        y: np.ndarray,\n",
        "        conf: float = 0.95,\n",
        "        n_bootstraps: int = 10_000\n",
        ") -> Tuple[float, float]:\n",
        "    \"\"\"Calculates confidence interval for auc score using the bootstrap\"\"\"\n",
        "    metrics = []\n",
        "    i = 0\n",
        "    y_pred = classifier.predict_proba(X)[:, 1]\n",
        "    while i < n_bootstraps:\n",
        "        btsrp_indices = list(np.random.choice(range(len(X)), len(X), replace=True))\n",
        "        X_btsrp = X[btsrp_indices, :]\n",
        "        y_btsrp = y[btsrp_indices]\n",
        "        if len(np.unique(y_btsrp)) != 2:\n",
        "            continue\n",
        "        else:\n",
        "            y_pred_btsrp = y_pred[btsrp_indices]\n",
        "            auc = roc_auc_score(y_btsrp, y_pred_btsrp)\n",
        "            metrics.append(auc)\n",
        "            i += 1\n",
        "    alpha = 1 - conf\n",
        "    lcb = np.quantile(metrics, alpha/2)\n",
        "    ucb = np.quantile(metrics, 1-alpha/2)\n",
        "    return (lcb, ucb)"
      ],
      "metadata": {
        "id": "I0yUUUJw1Oyw"
      },
      "execution_count": 2,
      "outputs": []
    },
    {
      "cell_type": "code",
      "source": [
        "def precision_metrics(\n",
        "    y_true: np.ndarray\n",
        ") -> np.ndarray:\n",
        "    \"\"\"Calculates presicion score for sorted array\"\"\"\n",
        "    tps = np.cumsum(y_true)\n",
        "    fps = np.cumsum(1 - y_true)\n",
        "    precision = tps / (tps + fps)\n",
        "    return precision"
      ],
      "metadata": {
        "id": "X9kYXMYoKynf"
      },
      "execution_count": 3,
      "outputs": []
    },
    {
      "cell_type": "code",
      "source": [
        "def recall_metrics(\n",
        "  y_true: np.ndarray\n",
        ") -> np.ndarray:\n",
        "    \"\"\"Calculates recall score for sorted array\"\"\"\n",
        "    tps = np.cumsum(y_true)\n",
        "    fps = np.cumsum(1 - y_true)\n",
        "    fns = tps[-1] - tps\n",
        "    recall = tps / (tps + fns)\n",
        "    return recall"
      ],
      "metadata": {
        "id": "D87azSWrl3ai"
      },
      "execution_count": 4,
      "outputs": []
    },
    {
      "cell_type": "code",
      "source": [
        "def specificity_metrics(\n",
        "    y_true: np.ndarray\n",
        ") -> np.ndarray:\n",
        "    \"\"\"Calculates specificity score for sorted array\"\"\"\n",
        "    fps = np.cumsum(1 - y_true)\n",
        "    tns = fps[-1] - fps\n",
        "    specificity = tns / (tns + fps)\n",
        "    \n",
        "    return specificity"
      ],
      "metadata": {
        "id": "UmEpIBKki7x8"
      },
      "execution_count": 5,
      "outputs": []
    },
    {
      "cell_type": "code",
      "source": [
        "def pr_threshold(\n",
        "    y_true: np.ndarray,\n",
        "    y_prob: np.ndarray,\n",
        "    min_precision: float,\n",
        ") -> Tuple[float, float]:\n",
        "    \"\"\"Returns threshold and recall (from Precision-Recall Curve)\"\"\"  \n",
        "    precision = precision_metrics(y_true)\n",
        "    recall = recall_metrics(y_true)\n",
        "    mask = (precision >= min_precision)\n",
        "    recall_tsh = recall * mask\n",
        "    max_recall = np.max(recall_tsh)\n",
        "    max_idx = np.where(recall_tsh == max_recall)[0][0]\n",
        "    threshold_proba = float(y_prob[max_idx])\n",
        "\n",
        "    return threshold_proba, max_recall"
      ],
      "metadata": {
        "id": "wuY-6_Z4nUUs"
      },
      "execution_count": 6,
      "outputs": []
    },
    {
      "cell_type": "code",
      "source": [
        "def sr_threshold(\n",
        "        y_true: np.ndarray,\n",
        "        y_prob: np.ndarray,\n",
        "        min_specificity: float,\n",
        ") -> Tuple[float, float]:\n",
        "    \"\"\"Returns threshold and recall (from Specificity-Recall Curve)\"\"\"\n",
        "    # specificity = 1 - fpr\n",
        "    # fpr = fp / (tn + fp)\n",
        "    specificity = specificity_metrics(y_true)\n",
        "    recall = recall_metrics(y_true)\n",
        "    mask = (specificity >= min_specificity)\n",
        "    recall_tsh = recall * mask\n",
        "    max_recall = np.max(recall_tsh)\n",
        "    max_idx = np.where(recall_tsh == max_recall)[0][0]\n",
        "    threshold_proba = float(y_prob[max_idx])\n",
        "\n",
        "    return threshold_proba, max_recall"
      ],
      "metadata": {
        "id": "x0Q0eLkuntP3"
      },
      "execution_count": 7,
      "outputs": []
    },
    {
      "cell_type": "code",
      "source": [
        "def sr_curve(\n",
        "    y_true: np.ndarray,\n",
        "    y_prob: np.ndarray,\n",
        "    conf: float = 0.95,\n",
        "    n_bootstrap: int = 10_000,\n",
        ") -> Tuple[np.ndarray, np.ndarray, np.ndarray, np.ndarray]:\n",
        "    \"\"\"Returns Specificity-Recall curve and it's (LCB, UCB)\"\"\"\n",
        "    specificity_btstrp = []\n",
        "    recall = recall_metrics(y_true)\n",
        "    specificity = specificity_metrics(y_true)\n",
        "    i = 0\n",
        "    while i < n_bootstrap:\n",
        "        btsrp_indices = np.sort(np.random.choice(range(len(y_true)), len(y_true), replace=True))\n",
        "        y_true_btstrp = y_true[btsrp_indices]\n",
        "        if len(np.unique(y_true_btstrp)) != 2:\n",
        "            continue\n",
        "        specificity_curr = specificity_metrics(y_true_btstrp)\n",
        "        specificity_curr = np.insert(specificity_curr, 0, 1)\n",
        "        specificity_btstrp = np.concatenate((specificity_btstrp, specificity_curr), axis=0)\n",
        "        i += 1\n",
        "    specificity_btstrp = specificity_btstrp.reshape(n_bootstrap, -1)\n",
        "    alpha = 1 - conf\n",
        "    specificity_lcb = np.quantile(specificity_btstrp, alpha / 2, axis=0)\n",
        "    specificity_ucb = np.quantile(specificity_btstrp, 1 - alpha / 2, axis=0)\n",
        "    recall = np.insert(recall, 0, 0)\n",
        "    specificity = np.insert(specificity, 0, 1)\n",
        "\n",
        "    return recall, specificity, specificity_lcb, specificity_ucb"
      ],
      "metadata": {
        "id": "T_gbFAT_lPd6"
      },
      "execution_count": 8,
      "outputs": []
    },
    {
      "cell_type": "code",
      "source": [
        "def pr_curve(\n",
        "    y_true: np.ndarray,\n",
        "    y_prob: np.ndarray,\n",
        "    conf: float = 0.95,\n",
        "    n_bootstrap: int = 10_000,\n",
        ") -> Tuple[np.ndarray, np.ndarray, np.ndarray, np.ndarray]:\n",
        "    \"\"\"Returns Precision-Recall curve and it's (LCB, UCB)\"\"\"\n",
        "    precision_btstrp = []\n",
        "    recall = recall_metrics(y_true)\n",
        "    precision = precision_metrics(y_true)\n",
        "    i = 0\n",
        "    while i < n_bootstrap:\n",
        "        btsrp_indices = np.sort(np.random.choice(range(len(y_true)), len(y_true), replace=True))\n",
        "        y_true_btstrp = y_true[btsrp_indices]\n",
        "        if len(np.unique(y_true_btstrp)) != 2:\n",
        "            continue\n",
        "        precision_curr = precision_metrics(y_true_btstrp)\n",
        "        precision_curr = np.insert(precision_curr, 0, 1)\n",
        "        precision_btstrp = np.concatenate((precision_btstrp, precision_curr), axis=0)\n",
        "        i += 1\n",
        "    precision_btstrp = precision_btstrp.reshape(n_bootstrap, -1)\n",
        "    alpha = 1 - conf\n",
        "    precision_lcb = np.quantile(precision_btstrp, alpha / 2, axis=0)\n",
        "    precision_ucb = np.quantile(precision_btstrp, 1 - alpha / 2, axis=0)\n",
        "    recall = np.insert(recall, 0, 0)\n",
        "    precision = np.insert(precision, 0, 1)\n",
        "\n",
        "    return recall, precision, precision_lcb, precision_ucb"
      ],
      "metadata": {
        "id": "dkZF8Vz-loIU"
      },
      "execution_count": 9,
      "outputs": []
    },
    {
      "cell_type": "markdown",
      "source": [
        "### Apply functions on synthetic data from sklearn"
      ],
      "metadata": {
        "id": "2SI3hwR26JRF"
      }
    },
    {
      "cell_type": "code",
      "source": [
        "X, y = datasets.make_classification(n_samples=1000,\n",
        "                                    n_features=5,\n",
        "                                    n_informative=3,\n",
        "                                    )\n",
        "X_train, X_test, y_train, y_test = train_test_split(X, y, test_size=.3)\n",
        "classifier = LogisticRegression()\n",
        "classifier.fit(X_train, y_train)"
      ],
      "metadata": {
        "colab": {
          "base_uri": "https://localhost:8080/"
        },
        "id": "radDcQS_uYTE",
        "outputId": "5f9ee296-a13c-49c1-f5a9-9a35331749d4"
      },
      "execution_count": 11,
      "outputs": [
        {
          "output_type": "execute_result",
          "data": {
            "text/plain": [
              "LogisticRegression()"
            ]
          },
          "metadata": {},
          "execution_count": 11
        }
      ]
    },
    {
      "cell_type": "code",
      "source": [
        "y_prob = classifier.predict_proba(X_test)[:, 1]"
      ],
      "metadata": {
        "id": "L55_XahnufmV"
      },
      "execution_count": 12,
      "outputs": []
    },
    {
      "cell_type": "code",
      "source": [
        "print(f'The roc auc is {roc_auc_score(y_test, y_prob)}')"
      ],
      "metadata": {
        "colab": {
          "base_uri": "https://localhost:8080/"
        },
        "id": "tEmwhMzZ2FW-",
        "outputId": "269bd3ff-cfb9-4c98-dc58-a4d83011873d"
      },
      "execution_count": 15,
      "outputs": [
        {
          "output_type": "stream",
          "name": "stdout",
          "text": [
            "The roc auc is 0.9251256057978747\n"
          ]
        }
      ]
    },
    {
      "cell_type": "markdown",
      "source": [
        "Let's find the 95 % confidence interval for the classifier"
      ],
      "metadata": {
        "id": "opK4Bw4vpMb-"
      }
    },
    {
      "cell_type": "code",
      "source": [
        "(lcb, ucb) = roc_auc_ci(classifier, X_test, y_test)\n",
        "print(f'The 95% confidence interval is {(lcb, ucb)}')"
      ],
      "metadata": {
        "colab": {
          "base_uri": "https://localhost:8080/"
        },
        "id": "eGhePW55ovA9",
        "outputId": "4e7d9248-123a-4f24-bd36-824bbcf591b7"
      },
      "execution_count": 14,
      "outputs": [
        {
          "output_type": "stream",
          "name": "stdout",
          "text": [
            "The 95% confidence interval is (0.8943503560781935, 0.9523919185324738)\n"
          ]
        }
      ]
    },
    {
      "cell_type": "markdown",
      "source": [
        "Let's plot the precision-recall and specificity-recall curves"
      ],
      "metadata": {
        "id": "a2pJGEuPqCNz"
      }
    },
    {
      "cell_type": "code",
      "source": [
        "#sort targets in reverse order to calculate metrics\n",
        "ind = y_prob.argsort()[::-1]\n",
        "y_test = y_test[ind]"
      ],
      "metadata": {
        "id": "Op5AaH_ZvJYb"
      },
      "execution_count": 17,
      "outputs": []
    },
    {
      "cell_type": "code",
      "source": [
        "recall_precision, precision, lcb_precision, ucb_precision = pr_curve(y_test, y_prob, n_bootstrap=10000)"
      ],
      "metadata": {
        "id": "UyN1jeThvvTu"
      },
      "execution_count": 18,
      "outputs": []
    },
    {
      "cell_type": "code",
      "source": [
        "recall_specificity, specificity, lcb_specificity, ucb_specificity = sr_curve(y_test, y_prob, n_bootstrap=10000)"
      ],
      "metadata": {
        "id": "pCp4GL1EpSG1"
      },
      "execution_count": 20,
      "outputs": []
    },
    {
      "cell_type": "code",
      "source": [
        "fig = plt.figure(figsize=(10,10))\n",
        "plt.plot(recall_precision, precision)\n",
        "plt.xlabel('Recall', fontsize=20)\n",
        "plt.ylabel('Precision', fontsize=20)\n",
        "plt.fill_between(recall_precision, lcb_precision, ucb_precision, alpha=0.2)"
      ],
      "metadata": {
        "colab": {
          "base_uri": "https://localhost:8080/",
          "height": 632
        },
        "id": "B17Iruj14xoc",
        "outputId": "27726454-1761-492b-c4c3-098eabac6f0f"
      },
      "execution_count": 19,
      "outputs": [
        {
          "output_type": "execute_result",
          "data": {
            "text/plain": [
              "<matplotlib.collections.PolyCollection at 0x7ff734047bd0>"
            ]
          },
          "metadata": {},
          "execution_count": 19
        },
        {
          "output_type": "display_data",
          "data": {
            "text/plain": [
              "<Figure size 720x720 with 1 Axes>"
            ],
            "image/png": "[encoded data removed]"
          },
          "metadata": {
            "needs_background": "light"
          }
        }
      ]
    },
    {
      "cell_type": "code",
      "source": [
        "fig = plt.figure(figsize=(10,10))\n",
        "plt.plot(recall_specificity, specificity)\n",
        "plt.xlabel('Recall', fontsize=20)\n",
        "plt.ylabel('Specificty', fontsize=20)\n",
        "plt.fill_between(recall_specificity, lcb_specificity, ucb_specificity, alpha=0.2)"
      ],
      "metadata": {
        "colab": {
          "base_uri": "https://localhost:8080/",
          "height": 632
        },
        "id": "qB7v04ITu6TN",
        "outputId": "88201505-c03c-4642-f1fd-9a30aca79ca4"
      },
      "execution_count": 21,
      "outputs": [
        {
          "output_type": "execute_result",
          "data": {
            "text/plain": [
              "<matplotlib.collections.PolyCollection at 0x7ff733b23ad0>"
            ]
          },
          "metadata": {},
          "execution_count": 21
        },
        {
          "output_type": "display_data",
          "data": {
            "text/plain": [
              "<Figure size 720x720 with 1 Axes>"
            ],
            "image/png": "[encoded data removed]"
          },
          "metadata": {
            "needs_background": "light"
          }
        }
      ]
    },
    {
      "cell_type": "markdown",
      "source": [
        "Let's find the threshold probability with precision (specificity) not less than some value, and max recall "
      ],
      "metadata": {
        "id": "5Xj_muymy_5a"
      }
    },
    {
      "cell_type": "code",
      "source": [
        "pr_threshold(y_test, y_prob, 0.6)"
      ],
      "metadata": {
        "id": "0GqkTq0XzA61",
        "colab": {
          "base_uri": "https://localhost:8080/"
        },
        "outputId": "6888e7eb-8178-4ed5-9fd7-18d52bf76839"
      },
      "execution_count": 22,
      "outputs": [
        {
          "output_type": "execute_result",
          "data": {
            "text/plain": [
              "(0.9999484869612649, 0.9795918367346939)"
            ]
          },
          "metadata": {},
          "execution_count": 22
        }
      ]
    },
    {
      "cell_type": "markdown",
      "source": [
        "Thus, the 0.9999484869612649 is threshold probability corresponding to maximum value of recall and precision > 0.6"
      ],
      "metadata": {
        "id": "l2Mn5viq4VZ8"
      }
    },
    {
      "cell_type": "code",
      "source": [
        "sr_threshold(y_test, y_prob, 0.8)"
      ],
      "metadata": {
        "id": "fkQPiY6XzBDU",
        "colab": {
          "base_uri": "https://localhost:8080/"
        },
        "outputId": "472fed4b-e04d-48c5-bf26-8021c42ee1c5"
      },
      "execution_count": 23,
      "outputs": [
        {
          "output_type": "execute_result",
          "data": {
            "text/plain": [
              "(0.9311978162451999, 0.8979591836734694)"
            ]
          },
          "metadata": {},
          "execution_count": 23
        }
      ]
    },
    {
      "cell_type": "markdown",
      "source": [
        "Thus, the 0.9311978162451999 is threshold probability corresponding to maximum value of recall and specificity > 0.8"
      ],
      "metadata": {
        "id": "bm9xgRLj5BFH"
      }
    }
  ]
}